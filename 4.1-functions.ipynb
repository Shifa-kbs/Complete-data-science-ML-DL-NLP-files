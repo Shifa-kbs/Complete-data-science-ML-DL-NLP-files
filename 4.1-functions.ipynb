{
 "cells": [
  {
   "cell_type": "markdown",
   "id": "16f1f1ca",
   "metadata": {},
   "source": [
    "### FUNCTIONS"
   ]
  },
  {
   "cell_type": "markdown",
   "id": "61051047",
   "metadata": {},
   "source": [
    "A function is a block of code that performs a specific task.functions help in organizing code,reusing code,and improving readability."
   ]
  },
  {
   "cell_type": "code",
   "execution_count": 1,
   "id": "d628de59",
   "metadata": {},
   "outputs": [],
   "source": [
    "## Syntax \n",
    "#def function_name(parameters):\n",
    "  #  ....\"\"\"Docstring\"\"\"......\n",
    "    #Function body\n",
    "    #return expression"
   ]
  },
  {
   "cell_type": "code",
   "execution_count": 2,
   "id": "62e0ac5b",
   "metadata": {},
   "outputs": [
    {
     "name": "stdout",
     "output_type": "stream",
     "text": [
      "the number is even\n"
     ]
    }
   ],
   "source": [
    "## why functions?\n",
    "# To reuse the same code again and again \n",
    "num=24\n",
    "if num%2==0:\n",
    "    print(\"the number is even\")\n",
    "else:\n",
    "    print(\"the number is odd\")\n"
   ]
  },
  {
   "cell_type": "code",
   "execution_count": 3,
   "id": "0865cee7",
   "metadata": {},
   "outputs": [],
   "source": [
    "def even_or_odd(num):\n",
    "    \"\"\"This function finds even or odd\"\"\"\n",
    "    if num%2==0:\n",
    "        print(\"The number is even\")\n",
    "    else:\n",
    "        print(\"The number is odd\")"
   ]
  },
  {
   "cell_type": "code",
   "execution_count": 4,
   "id": "bfb9ee46",
   "metadata": {},
   "outputs": [
    {
     "name": "stdout",
     "output_type": "stream",
     "text": [
      "The number is even\n"
     ]
    }
   ],
   "source": [
    "# Call this function\n",
    "even_or_odd(24)"
   ]
  },
  {
   "cell_type": "code",
   "execution_count": 5,
   "id": "4d52e352",
   "metadata": {},
   "outputs": [
    {
     "name": "stdout",
     "output_type": "stream",
     "text": [
      "6\n"
     ]
    }
   ],
   "source": [
    "## function with multiple parameters\n",
    "\n",
    "def add(a,b):\n",
    "    return a+b\n",
    "result=add(2,4)\n",
    "print(result)"
   ]
  },
  {
   "cell_type": "code",
   "execution_count": 6,
   "id": "390dcd12",
   "metadata": {},
   "outputs": [
    {
     "name": "stdout",
     "output_type": "stream",
     "text": [
      "Hello shifa welcome to the paradise\n"
     ]
    }
   ],
   "source": [
    "## Default parameters\n",
    "\n",
    "def greet(name=\"shifa\"):\n",
    "    print(f\"Hello {name} welcome to the paradise\")\n",
    "\n",
    "greet()\n"
   ]
  },
  {
   "cell_type": "code",
   "execution_count": 7,
   "id": "faec36a3",
   "metadata": {},
   "outputs": [],
   "source": [
    "## Variable Length Arguments\n",
    "## Positional and keyword Arguments\n",
    "\n",
    "def print_numbers(*shifa):\n",
    "    for number in shifa:\n",
    "        print(number)\n"
   ]
  },
  {
   "cell_type": "code",
   "execution_count": 6,
   "id": "4669fc66",
   "metadata": {},
   "outputs": [
    {
     "name": "stdout",
     "output_type": "stream",
     "text": [
      "1\n",
      "2\n",
      "3\n",
      "4\n",
      "5\n",
      "6\n",
      "7\n",
      "8\n",
      "shifa\n"
     ]
    }
   ],
   "source": [
    "print_numbers(1,2,3,4,5,6,7,8,\"shifa\")\n"
   ]
  },
  {
   "cell_type": "code",
   "execution_count": null,
   "id": "b1e8d00e",
   "metadata": {},
   "outputs": [],
   "source": [
    "# Positional Arguments, order matters \n",
    "def print_numbers(*args):\n",
    "    for number in args:\n",
    "        print(number)\n"
   ]
  },
  {
   "cell_type": "code",
   "execution_count": 8,
   "id": "44183885",
   "metadata": {},
   "outputs": [
    {
     "name": "stdout",
     "output_type": "stream",
     "text": [
      "1\n",
      "2\n",
      "3\n",
      "4\n",
      "5\n",
      "6\n",
      "7\n",
      "8\n",
      "shifa\n"
     ]
    }
   ],
   "source": [
    "print_numbers(1,2,3,4,5,6,7,8,\"shifa\")\n"
   ]
  },
  {
   "cell_type": "code",
   "execution_count": null,
   "id": "bc8347dd",
   "metadata": {},
   "outputs": [],
   "source": [
    "## Keyword Argument ,Order doesn’t matter.\n",
    "def print_details(**kwargs):\n",
    "    for key,value in kwargs.items():\n",
    "        print(f\"{key}:{value}\")"
   ]
  },
  {
   "cell_type": "code",
   "execution_count": 10,
   "id": "be7c4ba0",
   "metadata": {},
   "outputs": [
    {
     "name": "stdout",
     "output_type": "stream",
     "text": [
      "name:shifa\n",
      "age:20\n",
      "country:India\n"
     ]
    }
   ],
   "source": [
    "print_details(name=\"shifa\",age=20,country=\"India\")"
   ]
  },
  {
   "cell_type": "code",
   "execution_count": null,
   "id": "990c8041",
   "metadata": {},
   "outputs": [],
   "source": [
    "# both positional and keyword arguments\n",
    "# positional argument follows keyword argument\n",
    "def print_details(*args,**kwargs):\n",
    "    for val in args:\n",
    "        print(f\"Positional argument :{val}\")\n",
    "    for key,value in kwargs.items():\n",
    "        print(f\"{key}:{value}\")"
   ]
  },
  {
   "cell_type": "code",
   "execution_count": 12,
   "id": "7597c511",
   "metadata": {},
   "outputs": [
    {
     "name": "stdout",
     "output_type": "stream",
     "text": [
      "Positional argument :1\n",
      "Positional argument :2\n",
      "Positional argument :3\n",
      "Positional argument :shifa\n",
      "name:shifa\n",
      "age:20\n",
      "country:India\n"
     ]
    }
   ],
   "source": [
    "print_details(1,2,3,\"shifa\",name=\"shifa\",age=20,country=\"India\")"
   ]
  },
  {
   "cell_type": "code",
   "execution_count": 13,
   "id": "5a272b8f",
   "metadata": {},
   "outputs": [
    {
     "data": {
      "text/plain": [
       "6"
      ]
     },
     "execution_count": 13,
     "metadata": {},
     "output_type": "execute_result"
    }
   ],
   "source": [
    "# Return statements\n",
    "def multiply(a,b):\n",
    "    return a*b\n",
    "\n",
    "multiply(2,3)"
   ]
  },
  {
   "cell_type": "code",
   "execution_count": 14,
   "id": "420f887a",
   "metadata": {},
   "outputs": [
    {
     "data": {
      "text/plain": [
       "(6, 2)"
      ]
     },
     "execution_count": 14,
     "metadata": {},
     "output_type": "execute_result"
    }
   ],
   "source": [
    "# Return multiple parameters\n",
    "def multiply(a,b):\n",
    "    return a*b,a\n",
    "\n",
    "multiply(2,3)"
   ]
  }
 ],
 "metadata": {
  "kernelspec": {
   "display_name": "Python 3",
   "language": "python",
   "name": "python3"
  },
  "language_info": {
   "codemirror_mode": {
    "name": "ipython",
    "version": 3
   },
   "file_extension": ".py",
   "mimetype": "text/x-python",
   "name": "python",
   "nbconvert_exporter": "python",
   "pygments_lexer": "ipython3",
   "version": "3.10.0"
  }
 },
 "nbformat": 4,
 "nbformat_minor": 5
}
