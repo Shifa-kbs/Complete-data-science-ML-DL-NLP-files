{
 "cells": [
  {
   "cell_type": "markdown",
   "id": "69bd1f1f",
   "metadata": {},
   "source": [
    "### File Operation - Read and Write Files\n",
    "\n",
    "File handling is a crucial part of any programming language.Python provides built-in functions and methods to read from and write to files,both text and binary.This lesson will cover the basics of file handling,including reading and writing text files and binary files."
   ]
  },
  {
   "cell_type": "code",
   "execution_count": 2,
   "id": "0e97cd77",
   "metadata": {},
   "outputs": [
    {
     "name": "stdout",
     "output_type": "stream",
     "text": [
      "Hello How are you?\n",
      "I am Good\n",
      "Shifa is my name\n",
      "Welcome to the course\n"
     ]
    }
   ],
   "source": [
    "# Read a whole file\n",
    "\n",
    "with open('example.txt',mode='r')as file:\n",
    "    content=file.read()\n",
    "    print(content)"
   ]
  },
  {
   "cell_type": "code",
   "execution_count": null,
   "id": "080aec61",
   "metadata": {},
   "outputs": [
    {
     "name": "stdout",
     "output_type": "stream",
     "text": [
      "Hello How are you?\n",
      "\n",
      "I am Good\n",
      "\n",
      "Shifa is my name\n",
      "\n",
      "Welcome to the course\n"
     ]
    }
   ],
   "source": [
    "## Read a file line by line\n",
    "\n",
    "with open('example.txt',mode='r')as file:\n",
    "    for line in file:\n",
    "        print(line.strip())#.strip() removes the new line character"
   ]
  },
  {
   "cell_type": "code",
   "execution_count": null,
   "id": "bd105183",
   "metadata": {},
   "outputs": [],
   "source": [
    "## Writing a file\n",
    "\n",
    "with open('example.txt',mode='w')as file:\n",
    "    file.write(\"Hello world\\n\")\n",
    "    file.write(\"this is a new line\")\n",
    "# Note:when we use write operation it overwrites the file like it deletes the previous data and replace with given data."
   ]
  },
  {
   "cell_type": "code",
   "execution_count": 10,
   "id": "d5ccb11c",
   "metadata": {},
   "outputs": [],
   "source": [
    "## write a file without overwriting\n",
    "with open('example.txt',mode='a')as file:\n",
    "    file.write(\"\\nThis operation will not overwrites the file\\n\")"
   ]
  },
  {
   "cell_type": "code",
   "execution_count": null,
   "id": "eb593d14",
   "metadata": {},
   "outputs": [],
   "source": [
    "## Writing a list of lines to a file\n",
    "lines=['First line \\n','Second line \\n','Third line']\n",
    "with open('example.txt','a')as file:\n",
    "    file.writelines(lines)"
   ]
  },
  {
   "cell_type": "code",
   "execution_count": 13,
   "id": "7839c919",
   "metadata": {},
   "outputs": [],
   "source": [
    "## Binary files\n",
    "# wb is write byte mode\n",
    "# Writing to a binary file\n",
    "data=b'\\x00\\x01\\x03\\x04'\n",
    "with open('example.bin','wb')as file:\n",
    "    file.write(data)"
   ]
  },
  {
   "cell_type": "code",
   "execution_count": null,
   "id": "de0e71f4",
   "metadata": {},
   "outputs": [
    {
     "name": "stdout",
     "output_type": "stream",
     "text": [
      "b'\\x00\\x01\\x03\\x04'\n"
     ]
    }
   ],
   "source": [
    "## Binary files\n",
    "# rb is read byte mode\n",
    "# Reading a binary file\n",
    "with open('example.bin','rb')as file:\n",
    "    content=file.read()\n",
    "    print(content)"
   ]
  },
  {
   "cell_type": "code",
   "execution_count": 1,
   "id": "6e76cfc7",
   "metadata": {},
   "outputs": [],
   "source": [
    "# Read the content from a source text file and write to a destination text file\n",
    "# Copying a text file\n",
    "with open('example.txt','r')as source_file:\n",
    "    content=source_file.read()\n",
    "\n",
    "with open('destination.txt','w')as destination_file:\n",
    "    destination_file.write(content)"
   ]
  },
  {
   "cell_type": "code",
   "execution_count": 2,
   "id": "6c6ed7d9",
   "metadata": {},
   "outputs": [
    {
     "name": "stdout",
     "output_type": "stream",
     "text": [
      "Lines:6,Words:20,Characters:110\n"
     ]
    }
   ],
   "source": [
    "## Read a text file and count the number of lines,words and characters\n",
    "## Counting lines,words and characters in a text file\n",
    "def count_text_file(file_path):\n",
    "    with open(file_path,'r')as file:\n",
    "        lines=file.readlines()\n",
    "        line_count=len(lines)\n",
    "        word_count=sum(len(line.split()) for line in lines)\n",
    "        char_count=sum(len(line)for line in lines)\n",
    "        return line_count,word_count,char_count\n",
    "    \n",
    "file_path='example.txt'\n",
    "lines,words,characters=count_text_file(file_path)\n",
    "print(f'Lines:{lines},Words:{words},Characters:{characters}')"
   ]
  },
  {
   "cell_type": "markdown",
   "id": "4ba898f8",
   "metadata": {},
   "source": [
    "The W+ mode in python is used to open a file for both reading and writing.If the file does not exist ,it will be creadted.If the file exists ,its content is truncated(i.e, the file is overwritten)"
   ]
  },
  {
   "cell_type": "code",
   "execution_count": 9,
   "id": "bdf4419d",
   "metadata": {},
   "outputs": [
    {
     "name": "stdout",
     "output_type": "stream",
     "text": [
      "Hello Guys how are you all?\n",
      "I think everyone is doing well\n"
     ]
    }
   ],
   "source": [
    "## Writing and then reading a file\n",
    "\n",
    "with open('example.txt','w+')as file:\n",
    "    file.write(\"Hello Guys how are you all?\\n\")\n",
    "    file.write(\"I think everyone is doing well\")\n",
    "\n",
    "# move cursor to beginning of text to read\n",
    "    file.seek(0)\n",
    "\n",
    "# Read the file\n",
    "    content=file.read()\n",
    "    print(content)"
   ]
  }
 ],
 "metadata": {
  "kernelspec": {
   "display_name": "Python 3",
   "language": "python",
   "name": "python3"
  },
  "language_info": {
   "codemirror_mode": {
    "name": "ipython",
    "version": 3
   },
   "file_extension": ".py",
   "mimetype": "text/x-python",
   "name": "python",
   "nbconvert_exporter": "python",
   "pygments_lexer": "ipython3",
   "version": "3.10.0"
  }
 },
 "nbformat": 4,
 "nbformat_minor": 5
}
