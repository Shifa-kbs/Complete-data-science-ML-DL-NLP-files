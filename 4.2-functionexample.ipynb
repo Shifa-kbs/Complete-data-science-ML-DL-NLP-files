{
 "cells": [
  {
   "cell_type": "markdown",
   "id": "614a13e9",
   "metadata": {},
   "source": [
    "### Function Examples"
   ]
  },
  {
   "cell_type": "markdown",
   "id": "da07e771",
   "metadata": {},
   "source": [
    "### Example 1: Temperature Conversion"
   ]
  },
  {
   "cell_type": "code",
   "execution_count": 5,
   "id": "db2ab282",
   "metadata": {},
   "outputs": [
    {
     "name": "stdout",
     "output_type": "stream",
     "text": [
      "77.0\n",
      "23.88888888888889\n"
     ]
    }
   ],
   "source": [
    "def convert_temperature(temp,unit):\n",
    "    \"\"\"This function makes conversion between celsius and fahrenheit\"\"\"\n",
    "    if unit=='C':\n",
    "        return temp*9/5 + 32 # converts celsius to fahrenheit\n",
    "    elif unit=='F':\n",
    "        return (temp-32) *5/9  # converts fahrenheit to celsius\n",
    "    else:\n",
    "        return none\n",
    "print(convert_temperature(25,'C'))\n",
    "print(convert_temperature(75,'F'))"
   ]
  },
  {
   "cell_type": "markdown",
   "id": "d09591d2",
   "metadata": {},
   "source": [
    "### Example 2: Password Strength Checker\n"
   ]
  },
  {
   "cell_type": "code",
   "execution_count": null,
   "id": "b838e50f",
   "metadata": {},
   "outputs": [
    {
     "name": "stdout",
     "output_type": "stream",
     "text": [
      "False\n",
      "True\n"
     ]
    }
   ],
   "source": [
    "def is_strong_password(password):\n",
    "    \"\"\"This function checks whether the password is strong or not\"\"\"\n",
    "    if len(password)<8:\n",
    "        return False\n",
    "    if not any(char.isdigit() for char in password):\n",
    "        return False\n",
    "    if not any(char.islower() for char in password):\n",
    "        return False\n",
    "    if not any(char.isupper() for char in password):\n",
    "        return False\n",
    "    if not any(char in '!@#$%^&*()_+' for char in password):\n",
    "        return False\n",
    "    return True\n",
    "\n",
    "# Calling the function\n",
    "print(is_strong_password(\"weaKbody\"))\n",
    "print(is_strong_password(\"Shifa@23\"))"
   ]
  },
  {
   "cell_type": "markdown",
   "id": "ee6284cb",
   "metadata": {},
   "source": [
    "### Example 3:Calculate the Total Cost of Items in a Shopping Cart"
   ]
  },
  {
   "cell_type": "code",
   "execution_count": 21,
   "id": "0d504fd8",
   "metadata": {},
   "outputs": [
    {
     "name": "stdout",
     "output_type": "stream",
     "text": [
      "5.8999999999999995\n"
     ]
    }
   ],
   "source": [
    "def calculate_total_cost(cart):\n",
    "    total_cost=0\n",
    "    for item in cart:\n",
    "        total_cost+=item['price']*item['quantity']\n",
    "\n",
    "    return total_cost\n",
    "# cart data\n",
    "cart=[\n",
    "    {'name':\"apple\",'price':0.5,'quantity':4},\n",
    "    {'name':'banana','price':0.3,'quantity':6},\n",
    "    {'name':\"orange\",'price':0.7,'quantity':3}\n",
    "]\n",
    "\n",
    "# calling the function\n",
    "total_cost=calculate_total_cost(cart)\n",
    "print(total_cost)"
   ]
  },
  {
   "cell_type": "markdown",
   "id": "325013a8",
   "metadata": {},
   "source": [
    "### Example 4: Check if a String is Palindrome"
   ]
  },
  {
   "cell_type": "code",
   "execution_count": 24,
   "id": "e078f155",
   "metadata": {},
   "outputs": [
    {
     "name": "stdout",
     "output_type": "stream",
     "text": [
      "True\n",
      "False\n"
     ]
    }
   ],
   "source": [
    "def is_palindrome(s):\n",
    "    s=s.lower().replace(\" \",\"\")\n",
    "    return s==s[::-1]\n",
    "\n",
    "print(is_palindrome(\" A man a plan a canal panama\"))\n",
    "print(is_palindrome(\"Hello\"))"
   ]
  },
  {
   "cell_type": "markdown",
   "id": "d1beb6e5",
   "metadata": {},
   "source": [
    "### Calculate the factorials of a number using recursion"
   ]
  },
  {
   "cell_type": "code",
   "execution_count": null,
   "id": "d6c596ae",
   "metadata": {},
   "outputs": [
    {
     "name": "stdout",
     "output_type": "stream",
     "text": [
      "720\n"
     ]
    }
   ],
   "source": [
    "# Recursion is that the function can be called again and again\n",
    "def factorial(n):\n",
    "    \"\"\"This function return the factorial of a number\"\"\"\n",
    "    if n==0:\n",
    "        return 1\n",
    "    else:\n",
    "        return n * factorial(n-1)\n",
    "\n",
    "# Calling the function\n",
    "print(factorial(6))"
   ]
  },
  {
   "cell_type": "markdown",
   "id": "206f33b6",
   "metadata": {},
   "source": [
    "### Example 6: A Function to read a file and count the frequency of each word"
   ]
  },
  {
   "cell_type": "code",
   "execution_count": 46,
   "id": "94ce7dcd",
   "metadata": {},
   "outputs": [
    {
     "name": "stdout",
     "output_type": "stream",
     "text": [
      "{'hello': 2, 'my': 1, 'name': 1, 'is': 1, 'khalandar': 1, 'beebi': 1, 'shifa': 1, 'i': 1, 'am': 1, 'pooja': 1}\n"
     ]
    }
   ],
   "source": [
    "def count_word_frequency(file_path):\n",
    "    word_count={}\n",
    "    with open(file_path,'r') as file:\n",
    "        for line in file:\n",
    "            words=line.split()\n",
    "            for word in words:\n",
    "                word=word.lower().strip('.,!?:;\"\\'')\n",
    "                word_count[word]=word_count.get(word,0)+1\n",
    "\n",
    "\n",
    "    return word_count\n",
    "\n",
    "filepath=\"Sample.txt\"\n",
    "word_frequency=count_word_frequency(filepath)\n",
    "print(word_frequency)"
   ]
  },
  {
   "cell_type": "markdown",
   "id": "949537e6",
   "metadata": {},
   "source": [
    "### Example 7: Validate Email Address"
   ]
  },
  {
   "cell_type": "code",
   "execution_count": 48,
   "id": "320cfc24",
   "metadata": {},
   "outputs": [
    {
     "name": "stdout",
     "output_type": "stream",
     "text": [
      "True\n",
      "False\n"
     ]
    }
   ],
   "source": [
    "import re  # Import the regular expressions module\n",
    "\n",
    "# Email validation function\n",
    "def is_valid_email(email):\n",
    "    \"\"\"This function checks if the email is valid.\"\"\"\n",
    "    pattern = r'^[a-zA-Z0-9._%+-]+@[a-zA-Z0-9.-]+\\.[a-zA-Z]{2,}$'\n",
    "    return re.match(pattern, email) is not None\n",
    "\n",
    "# Calling the function\n",
    "print(is_valid_email(\"test@example.com\"))    \n",
    "print(is_valid_email(\"invalid-email\"))        \n"
   ]
  }
 ],
 "metadata": {
  "kernelspec": {
   "display_name": "Python 3",
   "language": "python",
   "name": "python3"
  },
  "language_info": {
   "codemirror_mode": {
    "name": "ipython",
    "version": 3
   },
   "file_extension": ".py",
   "mimetype": "text/x-python",
   "name": "python",
   "nbconvert_exporter": "python",
   "pygments_lexer": "ipython3",
   "version": "3.10.0"
  }
 },
 "nbformat": 4,
 "nbformat_minor": 5
}
