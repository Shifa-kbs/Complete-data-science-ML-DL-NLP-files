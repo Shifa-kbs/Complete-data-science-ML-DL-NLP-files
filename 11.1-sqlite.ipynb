{
 "cells": [
  {
   "cell_type": "markdown",
   "id": "cfe2ba6d",
   "metadata": {},
   "source": [
    "### SQL AND SQLITE\n",
    "\n",
    "SQL(Structured Query Language ) is a standard language for managing and manipulating relational databases.SQLite is a self-contained,serverless and Zero-configuration database engine that is widely used for embedded database systems."
   ]
  },
  {
   "cell_type": "code",
   "execution_count": 7,
   "id": "77d974aa",
   "metadata": {},
   "outputs": [],
   "source": [
    "import sqlite3"
   ]
  },
  {
   "cell_type": "code",
   "execution_count": 8,
   "id": "7f7e39e4",
   "metadata": {},
   "outputs": [
    {
     "data": {
      "text/plain": [
       "<sqlite3.Connection at 0x23519b04a40>"
      ]
     },
     "execution_count": 8,
     "metadata": {},
     "output_type": "execute_result"
    }
   ],
   "source": [
    "## Connect to an SQLite database\n",
    "connection=sqlite3.connect('examples.db')\n",
    "connection"
   ]
  },
  {
   "cell_type": "code",
   "execution_count": 9,
   "id": "5493667e",
   "metadata": {},
   "outputs": [],
   "source": [
    "cursor=connection.cursor() # to make sure it will iterate through all the tables"
   ]
  },
  {
   "cell_type": "code",
   "execution_count": 10,
   "id": "f632cfd0",
   "metadata": {},
   "outputs": [],
   "source": [
    "# Create a table\n",
    "cursor.execute('''\n",
    "Create Table If Not Exists employees(\n",
    "      Id integer primary key autoincrement,        \n",
    "      Name text not null,\n",
    "      age int,\n",
    "      department txt    \n",
    "              )\n",
    "''')\n",
    "# Commit the changes\n",
    "connection.commit()"
   ]
  },
  {
   "cell_type": "code",
   "execution_count": 11,
   "id": "24996d8d",
   "metadata": {},
   "outputs": [
    {
     "data": {
      "text/plain": [
       "<sqlite3.Cursor at 0x2351af42c40>"
      ]
     },
     "execution_count": 11,
     "metadata": {},
     "output_type": "execute_result"
    }
   ],
   "source": [
    "# Create a table\n",
    "cursor.execute('''\n",
    "Select * from employees  \n",
    "              \n",
    "''')"
   ]
  },
  {
   "cell_type": "code",
   "execution_count": 12,
   "id": "fefc53dd",
   "metadata": {},
   "outputs": [],
   "source": [
    "# Insert the data in sqlite database\n",
    "cursor.execute('''\n",
    "   Insert Into employees(name,age,department)\n",
    "               values('Shifa',25,'Data Scientist')\n",
    "''')\n",
    "\n",
    "cursor.execute('''\n",
    "   Insert Into employees(name,age,department)\n",
    "               values('Bob',28,'Engineering')\n",
    "''')\n",
    "\n",
    "cursor.execute('''\n",
    "   Insert Into employees(name,age,department)\n",
    "               values('Charlie',35,'Finance')\n",
    "''')\n",
    "\n",
    "##commit the changes\n",
    "connection.commit()"
   ]
  },
  {
   "cell_type": "code",
   "execution_count": 14,
   "id": "48c5c4d2",
   "metadata": {},
   "outputs": [
    {
     "name": "stdout",
     "output_type": "stream",
     "text": [
      "(1, 'Shifa', 25, 'Data Scientist')\n",
      "(2, 'Bob', 28, 'Engineering')\n",
      "(3, 'Charlie', 35, 'Finance')\n"
     ]
    }
   ],
   "source": [
    "## Query the data from the table\n",
    "cursor.execute('Select * from employees')\n",
    "rows=cursor.fetchall()\n",
    "\n",
    "\n",
    "# Print the queried data\n",
    "\n",
    "for row in rows:\n",
    "    print(row)"
   ]
  },
  {
   "cell_type": "code",
   "execution_count": 16,
   "id": "e423cc3b",
   "metadata": {},
   "outputs": [],
   "source": [
    "# Update the data in the table\n",
    "cursor.execute('''\n",
    "update employees\n",
    "set age=34\n",
    "where name=\"Bob\"\n",
    "''')\n",
    "\n",
    "connection.commit()"
   ]
  },
  {
   "cell_type": "code",
   "execution_count": 18,
   "id": "2cd05593",
   "metadata": {},
   "outputs": [
    {
     "name": "stdout",
     "output_type": "stream",
     "text": [
      "(1, 'Shifa', 25, 'Data Scientist')\n",
      "(2, 'Bob', 34, 'Engineering')\n",
      "(3, 'Charlie', 35, 'Finance')\n"
     ]
    }
   ],
   "source": [
    "## Query the data from the table\n",
    "cursor.execute('Select * from employees')\n",
    "rows=cursor.fetchall()\n",
    "\n",
    "\n",
    "# Print the queried data\n",
    "\n",
    "for row in rows:\n",
    "    print(row)"
   ]
  },
  {
   "cell_type": "code",
   "execution_count": 20,
   "id": "42935ab7",
   "metadata": {},
   "outputs": [
    {
     "data": {
      "text/plain": [
       "<sqlite3.Cursor at 0x2351af42c40>"
      ]
     },
     "execution_count": 20,
     "metadata": {},
     "output_type": "execute_result"
    }
   ],
   "source": [
    "## Delete the data from the table\n",
    "cursor.execute('''\n",
    "Delete from employees\n",
    "               where name=\"Charlie\"\n",
    "\n",
    "''')"
   ]
  },
  {
   "cell_type": "code",
   "execution_count": 21,
   "id": "53216c94",
   "metadata": {},
   "outputs": [
    {
     "name": "stdout",
     "output_type": "stream",
     "text": [
      "(1, 'Shifa', 25, 'Data Scientist')\n",
      "(2, 'Bob', 34, 'Engineering')\n"
     ]
    }
   ],
   "source": [
    "## Query the data from the table\n",
    "cursor.execute('Select * from employees')\n",
    "rows=cursor.fetchall()\n",
    "\n",
    "\n",
    "# Print the queried data\n",
    "\n",
    "for row in rows:\n",
    "    print(row)"
   ]
  },
  {
   "cell_type": "code",
   "execution_count": 22,
   "id": "dd9b1e73",
   "metadata": {},
   "outputs": [],
   "source": [
    "import sqlite3\n",
    "\n",
    "## Connect to an sqlite database\n",
    "connection = sqlite3.connect('sales_datas.db')\n",
    "cursor = connection.cursor()\n",
    "\n",
    "cursor.execute('''\n",
    "CREATE TABLE IF NOT EXISTS sales(\n",
    "    id INTEGER PRIMARY KEY AUTOINCREMENT,\n",
    "    date TEXT NOT NULL,         \n",
    "    product TEXT NOT NULL,\n",
    "    sales_amount INTEGER,\n",
    "    region TEXT\n",
    ")\n",
    "''')\n",
    "\n",
    "# Insert data into sales table\n",
    "sales_data = [\n",
    "    ('2023-01-01', 'Product1', 100, 'North'),\n",
    "    ('2023-01-02', 'Product2', 200, 'South'),\n",
    "    ('2023-01-03', 'Product1', 150, 'East'),\n",
    "    ('2023-01-04', 'Product3', 250, 'West'),\n",
    "    ('2023-01-05', 'Product2', 300, 'North'),\n",
    "]\n",
    "\n",
    "cursor.executemany('''\n",
    "INSERT INTO sales(date, product, sales_amount, region)\n",
    "VALUES (?, ?, ?, ?)\n",
    "''', sales_data)\n",
    "\n",
    "connection.commit()\n"
   ]
  },
  {
   "cell_type": "code",
   "execution_count": 23,
   "id": "356614ac",
   "metadata": {},
   "outputs": [
    {
     "name": "stdout",
     "output_type": "stream",
     "text": [
      "(1, '2023-01-01', 'Product1', 100, 'North')\n",
      "(2, '2023-01-02', 'Product2', 200, 'South')\n",
      "(3, '2023-01-03', 'Product1', 150, 'East')\n",
      "(4, '2023-01-04', 'Product3', 250, 'West')\n",
      "(5, '2023-01-05', 'Product2', 300, 'North')\n"
     ]
    }
   ],
   "source": [
    "## Query the data from the table\n",
    "cursor.execute('Select * from sales')\n",
    "rows=cursor.fetchall()\n",
    "\n",
    "\n",
    "# Print the queried data\n",
    "\n",
    "for row in rows:\n",
    "    print(row)"
   ]
  },
  {
   "cell_type": "code",
   "execution_count": 24,
   "id": "d20cd563",
   "metadata": {},
   "outputs": [],
   "source": [
    "connection.close()"
   ]
  },
  {
   "cell_type": "code",
   "execution_count": null,
   "id": "eb31cbe6",
   "metadata": {},
   "outputs": [],
   "source": []
  }
 ],
 "metadata": {
  "kernelspec": {
   "display_name": "Python 3",
   "language": "python",
   "name": "python3"
  },
  "language_info": {
   "codemirror_mode": {
    "name": "ipython",
    "version": 3
   },
   "file_extension": ".py",
   "mimetype": "text/x-python",
   "name": "python",
   "nbconvert_exporter": "python",
   "pygments_lexer": "ipython3",
   "version": "3.10.0"
  }
 },
 "nbformat": 4,
 "nbformat_minor": 5
}
