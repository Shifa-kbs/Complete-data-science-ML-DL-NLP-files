{
 "cells": [
  {
   "cell_type": "markdown",
   "id": "d9aa4dee",
   "metadata": {},
   "source": [
    "### Real-world Examples Using Lists in Python\n",
    "\n",
    "Lists are one of the most commonly used data structures in python,thanks to their versatility and ease of use.Here are several practical examples that illustrate their use in real-world scenarios.\n"
   ]
  },
  {
   "cell_type": "markdown",
   "id": "b76ceda5",
   "metadata": {},
   "source": [
    "### Example 1. Manage A To Do List\n",
    "\n",
    "Create a To Do List to keep track of tasks"
   ]
  },
  {
   "cell_type": "code",
   "execution_count": 6,
   "id": "50f22702",
   "metadata": {},
   "outputs": [
    {
     "name": "stdout",
     "output_type": "stream",
     "text": [
      "Dont forget to pay the utility bills\n",
      "To Do List remaining\n",
      "-Buy Groceries\n",
      "-pay the bills\n",
      "-Schedule a meeting\n",
      "-Go for a run\n"
     ]
    }
   ],
   "source": [
    "to_do_list=[\"Buy Groceries\",\"clean the house\",\"pay the bills\"]\n",
    "\n",
    "#Adding tasks\n",
    "to_do_list.append(\"Schedule a meeting\")\n",
    "to_do_list.append(\"Go for a run\")\n",
    "\n",
    "# Remove completed task \n",
    "to_do_list.remove(\"clean the house\")\n",
    "\n",
    "# Checking if the task is in the list\n",
    "if \"pay the bills\" in to_do_list:\n",
    "    print(\"Dont forget to pay the utility bills\")\n",
    "\n",
    "print(\"To Do List remaining\")\n",
    "for task in to_do_list:\n",
    "    print(f\"-{task}\")"
   ]
  },
  {
   "cell_type": "markdown",
   "id": "c222aed3",
   "metadata": {},
   "source": [
    "### Example 2. Organizing Student Grades\n",
    "\n",
    "Create a list to store and calculate average grades for students"
   ]
  },
  {
   "cell_type": "code",
   "execution_count": 7,
   "id": "8bc9ce1a",
   "metadata": {},
   "outputs": [
    {
     "name": "stdout",
     "output_type": "stream",
     "text": [
      "Average Grade is :87.125\n",
      "Highest grade is :98\n",
      "Lowest grade is :67\n"
     ]
    }
   ],
   "source": [
    "# Creating a list of grades\n",
    "grades=[85,95,98,87,90,67,82]\n",
    "\n",
    "# Adding a new grades\n",
    "grades.append(93)\n",
    "\n",
    "# Calculating Average \n",
    "Average_grade=sum(grades)/len(grades)\n",
    "print(f\"Average Grade is :{Average_grade}\")\n",
    "\n",
    "# Finding the highest and lowest grade\n",
    "Highest_grade=max(grades)\n",
    "Lowest_grade=min(grades)\n",
    "print(f\"Highest grade is :{Highest_grade}\")\n",
    "print(f\"Lowest grade is :{Lowest_grade}\")"
   ]
  },
  {
   "cell_type": "markdown",
   "id": "ac1600b7",
   "metadata": {},
   "source": [
    "### Example 3. Managing An Inventory\n",
    "\n",
    "Use a list to manage inventory items in a store"
   ]
  },
  {
   "cell_type": "code",
   "execution_count": 3,
   "id": "c28f90fa",
   "metadata": {},
   "outputs": [
    {
     "name": "stdout",
     "output_type": "stream",
     "text": [
      "oranges is in stock\n",
      "Inventory List\n",
      " -apples\n",
      " -grapes\n",
      " -cherry\n",
      " -oranges\n",
      " -watermelon\n"
     ]
    }
   ],
   "source": [
    "## Managing an inventory\n",
    "inventory=[\"apples\",\"banana\",\"grapes\",\"cherry\",\"oranges\"]\n",
    "\n",
    "## Adding an item\n",
    "inventory.append(\"watermelon\")\n",
    "\n",
    "# Removing an item\n",
    "inventory.remove(\"banana\")\n",
    "\n",
    "## Checking item in the list\n",
    "item=\"oranges\"\n",
    "if item in inventory:\n",
    "    print(f\"{item} is in stock\")\n",
    "else:\n",
    "    print(f\"{item} out of stock\")\n",
    "\n",
    "# Printing the inventory\n",
    "print(\"Inventory List\")\n",
    "for item in inventory:\n",
    "    print(f\" -{item}\")"
   ]
  },
  {
   "cell_type": "markdown",
   "id": "af6979e4",
   "metadata": {},
   "source": [
    "### Example 4.Collecting User Feedback\n",
    "\n",
    "Use a list to collect and analyze user feedback"
   ]
  },
  {
   "cell_type": "code",
   "execution_count": 4,
   "id": "42f6af64",
   "metadata": {},
   "outputs": [
    {
     "name": "stdout",
     "output_type": "stream",
     "text": [
      "Positive Feedback Count: 2\n",
      "User feedback: \n",
      "-Great service!\n",
      "-Very satisfied\n",
      "-Could be better\n",
      "-Excellent experience\n",
      "-Not happy with the service\n"
     ]
    }
   ],
   "source": [
    "# Collecting user feedback\n",
    "feedback=[\"Great service!\",\"Very satisfied\",\"Could be better\",\"Excellent experience\"]\n",
    "\n",
    "# Adding new feedback\n",
    "feedback.append(\"Not happy with the service\")\n",
    "\n",
    "# Counting specific feedback\n",
    "positive_feedback_count=sum(1 for comment in feedback if \"great\" in comment.lower() or \"excellent\" in comment.lower())\n",
    "print(f\"Positive Feedback Count: {positive_feedback_count}\")\n",
    "\n",
    "# Printing all feedback\n",
    "print(\"User feedback: \")\n",
    "for comment in feedback:\n",
    "    print(f\"-{comment}\")"
   ]
  }
 ],
 "metadata": {
  "kernelspec": {
   "display_name": "Python 3",
   "language": "python",
   "name": "python3"
  },
  "language_info": {
   "codemirror_mode": {
    "name": "ipython",
    "version": 3
   },
   "file_extension": ".py",
   "mimetype": "text/x-python",
   "name": "python",
   "nbconvert_exporter": "python",
   "pygments_lexer": "ipython3",
   "version": "3.10.0"
  }
 },
 "nbformat": 4,
 "nbformat_minor": 5
}
