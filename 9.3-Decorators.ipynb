{
 "cells": [
  {
   "cell_type": "markdown",
   "id": "2349435f",
   "metadata": {},
   "source": [
    "### Decorators\n",
    "\n",
    "Decorators are a powerful and flexible feature in python that allows you to modify the behavior of a function or class method.They are commonly used to add functionality to functions or methods without modifying their actual code."
   ]
  },
  {
   "cell_type": "code",
   "execution_count": 1,
   "id": "e64b4671",
   "metadata": {},
   "outputs": [],
   "source": [
    "## function copy\n",
    "## closures\n",
    "## decorators"
   ]
  },
  {
   "cell_type": "code",
   "execution_count": 12,
   "id": "93176437",
   "metadata": {},
   "outputs": [
    {
     "data": {
      "text/plain": [
       "'Welcome to the advanced python course'"
      ]
     },
     "execution_count": 12,
     "metadata": {},
     "output_type": "execute_result"
    }
   ],
   "source": [
    "## function copy\n",
    "def welcome():\n",
    "    return \"Welcome to the advanced python course\"\n",
    "\n",
    "welcome()"
   ]
  },
  {
   "cell_type": "code",
   "execution_count": null,
   "id": "9ffd4db0",
   "metadata": {},
   "outputs": [
    {
     "name": "stdout",
     "output_type": "stream",
     "text": [
      "Welcome to the advanced python course\n",
      "Welcome to the advanced python course\n"
     ]
    }
   ],
   "source": [
    "wel=welcome\n",
    "print(wel())\n",
    "del welcome\n",
    "print(wel())\n",
    "# Still works because `wel` holds a reference to the function"
   ]
  },
  {
   "cell_type": "code",
   "execution_count": 16,
   "id": "613ab563",
   "metadata": {},
   "outputs": [],
   "source": [
    "## Closures functions\n",
    "\n",
    "def main_welcome():\n",
    "    msg=\"welcome\"\n",
    "    def sub_welcome():\n",
    "        print(\"Welcome to the course\")\n",
    "        print(msg)\n",
    "        print(\"please learn concepts\")\n",
    "    return sub_welcome()  "
   ]
  },
  {
   "cell_type": "code",
   "execution_count": 17,
   "id": "de282605",
   "metadata": {},
   "outputs": [
    {
     "name": "stdout",
     "output_type": "stream",
     "text": [
      "Welcome to the course\n",
      "welcome\n",
      "please learn concepts\n"
     ]
    }
   ],
   "source": [
    "main_welcome()"
   ]
  },
  {
   "cell_type": "code",
   "execution_count": 18,
   "id": "5149d351",
   "metadata": {},
   "outputs": [],
   "source": [
    "## Closures functions\n",
    "\n",
    "def main_welcome(msg):\n",
    "    def sub_welcome():\n",
    "        print(\"Welcome to the course\")\n",
    "        print(msg)\n",
    "        print(\"please learn concepts\")\n",
    "    return sub_welcome()  "
   ]
  },
  {
   "cell_type": "code",
   "execution_count": 19,
   "id": "8480d7ce",
   "metadata": {},
   "outputs": [
    {
     "name": "stdout",
     "output_type": "stream",
     "text": [
      "Welcome to the course\n",
      "welcome everyone\n",
      "please learn concepts\n"
     ]
    }
   ],
   "source": [
    "main_welcome(\"welcome everyone\")"
   ]
  },
  {
   "cell_type": "code",
   "execution_count": 22,
   "id": "2b9c552b",
   "metadata": {},
   "outputs": [],
   "source": [
    "## Closures functions\n",
    "\n",
    "def main_welcome(func):\n",
    "    def sub_welcome():\n",
    "        print(\"Welcome to the course\")\n",
    "        func(\"welcome to the tutorial\")\n",
    "        print(\"please learn concepts\")\n",
    "    return sub_welcome()  "
   ]
  },
  {
   "cell_type": "code",
   "execution_count": 23,
   "id": "6583c05c",
   "metadata": {},
   "outputs": [
    {
     "name": "stdout",
     "output_type": "stream",
     "text": [
      "Welcome to the course\n",
      "welcome to the tutorial\n",
      "please learn concepts\n"
     ]
    }
   ],
   "source": [
    "main_welcome(print)"
   ]
  },
  {
   "cell_type": "code",
   "execution_count": 26,
   "id": "af86322c",
   "metadata": {},
   "outputs": [],
   "source": [
    "## Closures functions\n",
    "\n",
    "def main_welcome(func,lst):\n",
    "    def sub_welcome():\n",
    "        print(\"Welcome to the course\")\n",
    "        print(func(lst))\n",
    "        print(\"please learn concepts\")\n",
    "    return sub_welcome()  "
   ]
  },
  {
   "cell_type": "code",
   "execution_count": 27,
   "id": "ac0d6a41",
   "metadata": {},
   "outputs": [
    {
     "name": "stdout",
     "output_type": "stream",
     "text": [
      "Welcome to the course\n",
      "5\n",
      "please learn concepts\n"
     ]
    }
   ],
   "source": [
    "main_welcome(len,[1,2,3,4,5])"
   ]
  },
  {
   "cell_type": "code",
   "execution_count": 28,
   "id": "5faef8b7",
   "metadata": {},
   "outputs": [],
   "source": [
    "# Decorator\n",
    "def main_welcome(func):\n",
    "    def sub_welcome():\n",
    "        print(\"Welcome to the course\")\n",
    "        func()\n",
    "        print(\"please learn concepts\")\n",
    "    return sub_welcome()  "
   ]
  },
  {
   "cell_type": "code",
   "execution_count": 29,
   "id": "ae066a70",
   "metadata": {},
   "outputs": [
    {
     "name": "stdout",
     "output_type": "stream",
     "text": [
      "This is an advanced python course\n"
     ]
    }
   ],
   "source": [
    "def course_introduction():\n",
    "    print(\"This is an advanced python course\")\n",
    "\n",
    "course_introduction()"
   ]
  },
  {
   "cell_type": "code",
   "execution_count": 30,
   "id": "eb0b4d16",
   "metadata": {},
   "outputs": [
    {
     "name": "stdout",
     "output_type": "stream",
     "text": [
      "Welcome to the course\n",
      "This is an advanced python course\n",
      "please learn concepts\n"
     ]
    }
   ],
   "source": [
    "main_welcome(course_introduction)"
   ]
  },
  {
   "cell_type": "code",
   "execution_count": 32,
   "id": "8919cff0",
   "metadata": {},
   "outputs": [
    {
     "name": "stdout",
     "output_type": "stream",
     "text": [
      "Welcome to the course\n",
      "This is an advanced python course for a month\n",
      "please learn concepts\n"
     ]
    }
   ],
   "source": [
    "@main_welcome#(whenever we use decorator we use this method as a parameter in main method )\n",
    "def course_introduction():\n",
    "    print(\"This is an advanced python course for a month\")\n"
   ]
  },
  {
   "cell_type": "code",
   "execution_count": 35,
   "id": "6cfa7e02",
   "metadata": {},
   "outputs": [],
   "source": [
    "# Decorator\n",
    "\n",
    "def my_decorator(func):\n",
    "    def wrapper():\n",
    "        print(\"Something is happening before the function is called\")\n",
    "        func()\n",
    "        print(\"something is happening after the function is called\")\n",
    "    return wrapper\n"
   ]
  },
  {
   "cell_type": "code",
   "execution_count": 37,
   "id": "1f3df760",
   "metadata": {},
   "outputs": [],
   "source": [
    "@my_decorator\n",
    "def say_hello():\n",
    "    print(\"hello\")"
   ]
  },
  {
   "cell_type": "code",
   "execution_count": 38,
   "id": "716f3d4e",
   "metadata": {},
   "outputs": [
    {
     "name": "stdout",
     "output_type": "stream",
     "text": [
      "Something is happening before the function is called\n",
      "hello\n",
      "something is happening after the function is called\n"
     ]
    }
   ],
   "source": [
    "say_hello()"
   ]
  },
  {
   "cell_type": "code",
   "execution_count": null,
   "id": "fb11caad",
   "metadata": {},
   "outputs": [],
   "source": [
    "## Decorators with arguments\n",
    "def repeat(n):\n",
    "    def decorator(func):\n",
    "        def wrapper(*args,**kwargs):\n",
    "            for _ in range(n):\n",
    "                func(*args,**kwargs)\n",
    "        return wrapper\n",
    "    return decorator"
   ]
  },
  {
   "cell_type": "code",
   "execution_count": 40,
   "id": "c9abefe7",
   "metadata": {},
   "outputs": [],
   "source": [
    "@repeat(3)\n",
    "def say_hello():\n",
    "    print(\"Hello\")"
   ]
  },
  {
   "cell_type": "code",
   "execution_count": 42,
   "id": "7660539e",
   "metadata": {},
   "outputs": [
    {
     "name": "stdout",
     "output_type": "stream",
     "text": [
      "Hello\n",
      "Hello\n",
      "Hello\n"
     ]
    }
   ],
   "source": [
    "say_hello()"
   ]
  }
 ],
 "metadata": {
  "kernelspec": {
   "display_name": "Python 3",
   "language": "python",
   "name": "python3"
  },
  "language_info": {
   "codemirror_mode": {
    "name": "ipython",
    "version": 3
   },
   "file_extension": ".py",
   "mimetype": "text/x-python",
   "name": "python",
   "nbconvert_exporter": "python",
   "pygments_lexer": "ipython3",
   "version": "3.10.0"
  }
 },
 "nbformat": 4,
 "nbformat_minor": 5
}
