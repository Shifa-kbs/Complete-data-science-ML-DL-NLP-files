{
 "cells": [
  {
   "cell_type": "markdown",
   "id": "3016596f",
   "metadata": {},
   "source": [
    "### Generators\n",
    "\n",
    "Generators are a simpler way to create iterators.They use the yield keyword to produce a series of values lazily,which means they generate values on the fly and do not store them in memory"
   ]
  },
  {
   "cell_type": "code",
   "execution_count": null,
   "id": "521ac94e",
   "metadata": {},
   "outputs": [],
   "source": [
    "def square(n):\n",
    "    for i in range(3):\n",
    "        yield i**2 # yield will store and return the value"
   ]
  },
  {
   "cell_type": "code",
   "execution_count": 5,
   "id": "b74b3b0f",
   "metadata": {},
   "outputs": [
    {
     "data": {
      "text/plain": [
       "<generator object square at 0x00000185580FD930>"
      ]
     },
     "execution_count": 5,
     "metadata": {},
     "output_type": "execute_result"
    }
   ],
   "source": [
    "square(3)"
   ]
  },
  {
   "cell_type": "code",
   "execution_count": 6,
   "id": "f8d397af",
   "metadata": {},
   "outputs": [
    {
     "name": "stdout",
     "output_type": "stream",
     "text": [
      "0\n",
      "1\n",
      "4\n"
     ]
    }
   ],
   "source": [
    "for i in square(3):\n",
    "    print(i)"
   ]
  },
  {
   "cell_type": "code",
   "execution_count": 7,
   "id": "68715f0c",
   "metadata": {},
   "outputs": [
    {
     "data": {
      "text/plain": [
       "<generator object square at 0x00000185580FECE0>"
      ]
     },
     "execution_count": 7,
     "metadata": {},
     "output_type": "execute_result"
    }
   ],
   "source": [
    "a=square(3)\n",
    "a"
   ]
  },
  {
   "cell_type": "code",
   "execution_count": 12,
   "id": "fdd416f6",
   "metadata": {},
   "outputs": [
    {
     "ename": "StopIteration",
     "evalue": "",
     "output_type": "error",
     "traceback": [
      "\u001b[1;31m---------------------------------------------------------------------------\u001b[0m",
      "\u001b[1;31mStopIteration\u001b[0m                             Traceback (most recent call last)",
      "Cell \u001b[1;32mIn[12], line 1\u001b[0m\n\u001b[1;32m----> 1\u001b[0m \u001b[38;5;28;43mnext\u001b[39;49m\u001b[43m(\u001b[49m\u001b[43ma\u001b[49m\u001b[43m)\u001b[49m\n",
      "\u001b[1;31mStopIteration\u001b[0m: "
     ]
    }
   ],
   "source": [
    "next(a)"
   ]
  },
  {
   "cell_type": "code",
   "execution_count": 13,
   "id": "d48204dc",
   "metadata": {},
   "outputs": [],
   "source": [
    "def my_generator():\n",
    "    yield 1\n",
    "    yield 2\n",
    "    yield 3"
   ]
  },
  {
   "cell_type": "code",
   "execution_count": 21,
   "id": "364c272e",
   "metadata": {},
   "outputs": [
    {
     "data": {
      "text/plain": [
       "<generator object my_generator at 0x0000018559544C10>"
      ]
     },
     "execution_count": 21,
     "metadata": {},
     "output_type": "execute_result"
    }
   ],
   "source": [
    "gen=my_generator()\n",
    "gen"
   ]
  },
  {
   "cell_type": "code",
   "execution_count": 18,
   "id": "b6fb5789",
   "metadata": {},
   "outputs": [
    {
     "ename": "StopIteration",
     "evalue": "",
     "output_type": "error",
     "traceback": [
      "\u001b[1;31m---------------------------------------------------------------------------\u001b[0m",
      "\u001b[1;31mStopIteration\u001b[0m                             Traceback (most recent call last)",
      "Cell \u001b[1;32mIn[18], line 1\u001b[0m\n\u001b[1;32m----> 1\u001b[0m \u001b[38;5;28;43mnext\u001b[39;49m\u001b[43m(\u001b[49m\u001b[43mgen\u001b[49m\u001b[43m)\u001b[49m\n",
      "\u001b[1;31mStopIteration\u001b[0m: "
     ]
    }
   ],
   "source": [
    "next(gen)"
   ]
  },
  {
   "cell_type": "code",
   "execution_count": 22,
   "id": "99f06946",
   "metadata": {},
   "outputs": [
    {
     "name": "stdout",
     "output_type": "stream",
     "text": [
      "1\n",
      "2\n",
      "3\n"
     ]
    }
   ],
   "source": [
    "for val in gen:\n",
    "    print(val)"
   ]
  },
  {
   "cell_type": "markdown",
   "id": "fc167b13",
   "metadata": {},
   "source": [
    "### Practical Example:Reading Large Files\n",
    "Generators are particularly useful for reading large files bcz they allow you to process one line at a time without loading the entire file into memory."
   ]
  },
  {
   "cell_type": "code",
   "execution_count": 1,
   "id": "b5342024",
   "metadata": {},
   "outputs": [],
   "source": [
    "# Practical : Reading large files\n",
    "\n",
    "def read_large_file(file_path):\n",
    "    with open(file_path,'r') as file:\n",
    "        for line in file:\n",
    "            yield line"
   ]
  },
  {
   "cell_type": "code",
   "execution_count": 2,
   "id": "c9ca946c",
   "metadata": {},
   "outputs": [
    {
     "name": "stdout",
     "output_type": "stream",
     "text": [
      "The Last Compass”\n",
      "\n",
      "Mira had never left the quiet mountain village of Kareth—until the morning she found the compass.\n",
      "\n",
      "It was old, brass, and oddly warm to the touch. Her grandfather had spoken of it in hushed tones, calling it “the key to the lost city of Elrien.” Mira had always thought it was just one of his bedtime tales. But when the compass needle began spinning on its own and then locked in a direction due west, curiosity beat caution.\n",
      "\n",
      "With a satchel of dried berries, her grandfather’s worn cloak, and the compass clenched in her fist, she set off through the Whispering Woods. Days passed. Wolves stalked her. A storm nearly swept her off a ridge. She barely escaped a band of highway thieves by ducking into a cave—where she found a symbol etched into the stone: a sunburst, matching the one on the compass.\n",
      "\n",
      "She was close.\n",
      "\n",
      "At dawn the next day, the compass needle started glowing. Mira followed it until she stood before a cliff wall. No city. No treasure. Just stone.\n",
      "\n",
      "Frustrated, she kicked the wall. It echoed—hollow.\n",
      "\n",
      "She pushed. Nothing.\n",
      "\n",
      "Then she remembered: “The compass opens the way.”\n",
      "\n",
      "Mira pressed the compass into a groove shaped like the sunburst. The rock trembled, and with a grinding noise, a hidden doorway opened.\n",
      "\n",
      "Inside, golden light spilled from walls lined with crystal. Vines grew around ancient books, and in the center sat a throne made of silver branches. She had found Elrien—lost not to time, but to fear. And she, Mira of Kareth, was the first to walk its halls in a thousand years.\n",
      "\n",
      "And perhaps, not the last.\n"
     ]
    }
   ],
   "source": [
    "file_path='large_file.txt'\n",
    "\n",
    "for line in read_large_file(file_path):\n",
    "    print(line.strip())\n"
   ]
  }
 ],
 "metadata": {
  "kernelspec": {
   "display_name": "Python 3",
   "language": "python",
   "name": "python3"
  },
  "language_info": {
   "codemirror_mode": {
    "name": "ipython",
    "version": 3
   },
   "file_extension": ".py",
   "mimetype": "text/x-python",
   "name": "python",
   "nbconvert_exporter": "python",
   "pygments_lexer": "ipython3",
   "version": "3.10.0"
  }
 },
 "nbformat": 4,
 "nbformat_minor": 5
}
