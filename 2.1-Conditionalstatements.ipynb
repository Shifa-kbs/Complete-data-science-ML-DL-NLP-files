{
 "cells": [
  {
   "cell_type": "code",
   "execution_count": 1,
   "id": "cc668408",
   "metadata": {},
   "outputs": [
    {
     "name": "stdout",
     "output_type": "stream",
     "text": [
      "You are allowed to vote in the elections\n"
     ]
    }
   ],
   "source": [
    "## if statement\n",
    "age=18\n",
    "\n",
    "if age>=18:\n",
    "    print(\"You are allowed to vote in the elections\")"
   ]
  },
  {
   "cell_type": "code",
   "execution_count": 2,
   "id": "7874c57f",
   "metadata": {},
   "outputs": [
    {
     "data": {
      "text/plain": [
       "True"
      ]
     },
     "execution_count": 2,
     "metadata": {},
     "output_type": "execute_result"
    }
   ],
   "source": [
    "age>=18"
   ]
  },
  {
   "cell_type": "code",
   "execution_count": 3,
   "id": "7f56365d",
   "metadata": {},
   "outputs": [
    {
     "name": "stdout",
     "output_type": "stream",
     "text": [
      "You are a minor\n"
     ]
    }
   ],
   "source": [
    "## else\n",
    "## The else statement executes a block of code if the condition in th if statement is false.\n",
    "\n",
    "age=16\n",
    "\n",
    "if age>=18:\n",
    "    print(\"You are eligible for voting\")\n",
    "else:\n",
    "    print(\"You are a minor\")"
   ]
  },
  {
   "cell_type": "code",
   "execution_count": 4,
   "id": "04d0d737",
   "metadata": {},
   "outputs": [
    {
     "name": "stdout",
     "output_type": "stream",
     "text": [
      "You are an adult\n"
     ]
    }
   ],
   "source": [
    "## elif \n",
    "## The elif statement allows you to check multiple conditions.It stands for \"else if\"\n",
    "\n",
    "age=20\n",
    "\n",
    "if age<13:\n",
    "    print(\"You are a child\")\n",
    "elif age<18:\n",
    "    print(\"You are a teenager\")\n",
    "else:\n",
    "    print(\"You are an adult\")"
   ]
  },
  {
   "cell_type": "code",
   "execution_count": 7,
   "id": "decb3e1e",
   "metadata": {},
   "outputs": [
    {
     "name": "stdout",
     "output_type": "stream",
     "text": [
      "The number is zero or negative\n"
     ]
    }
   ],
   "source": [
    "## Nested conditional statements\n",
    "# you can place one or more if ,elif,or else statements inside another if ,elif ,or else  to create nested conditional statements.\n",
    "## number even,odd or negative\n",
    "\n",
    "num=int(input(\"Enter the number\"))\n",
    "\n",
    "if num>0:\n",
    "    print(\"The number is positive\")\n",
    "    if num%2==0:\n",
    "        print(\"The number is even\")\n",
    "    else:\n",
    "        print(\"The number is odd\")\n",
    "else:\n",
    "    print(\"The number is zero or negative\")\n",
    "    "
   ]
  },
  {
   "cell_type": "code",
   "execution_count": 9,
   "id": "44f51ada",
   "metadata": {},
   "outputs": [
    {
     "name": "stdout",
     "output_type": "stream",
     "text": [
      "2024 is a leap year\n"
     ]
    }
   ],
   "source": [
    "## Practical Examples\n",
    "\n",
    "## Determine if a year is a leap year using nested condition statement\n",
    "\n",
    "\n",
    "year=int(input(\"Enter the year\"))\n",
    "\n",
    "if year%4==0:\n",
    "    if year%100==0:\n",
    "        if year%400==0:\n",
    "            print(year ,\"is a leap year\")\n",
    "        else:\n",
    "            print(year,\"is not a leap year\")\n",
    "    else:\n",
    "        print(year,\"is a leap year\")\n",
    "else:\n",
    "    print(year,\"is not a leap year\")\n",
    "\n"
   ]
  },
  {
   "cell_type": "code",
   "execution_count": 12,
   "id": "25f48007",
   "metadata": {},
   "outputs": [
    {
     "name": "stdout",
     "output_type": "stream",
     "text": [
      "Result is : 14.0\n"
     ]
    }
   ],
   "source": [
    "## Assignment\n",
    "## Simple calculator Program\n",
    "\n",
    "num1=float(input(\"Enter the first number\"))\n",
    "num2=float(input(\"Enter the second number\"))\n",
    "operation=input(\"Enter the operation(+,-,*,/) :\")\n",
    "\n",
    "if operation=='+':\n",
    "    result=num1+num2\n",
    "elif operation=='-':\n",
    "    result=num1-num2\n",
    "elif operation=='*':\n",
    "    result=num1*num2\n",
    "elif operation=='/':\n",
    "    if num2!=0:\n",
    "        result=num1/num2\n",
    "    else:\n",
    "        result=\"Error , division by zero\"\n",
    "else:\n",
    "    result=\"Invalid operation\"\n",
    "print(\"Result is :\",result)\n",
    "\n"
   ]
  },
  {
   "cell_type": "code",
   "execution_count": null,
   "id": "80823a57",
   "metadata": {},
   "outputs": [
    {
     "name": "stdout",
     "output_type": "stream",
     "text": [
      "Ticket price is :  $25\n"
     ]
    }
   ],
   "source": [
    "## Ticket price using age and student status\n",
    "\n",
    "age=int(input(\"Enter the age: \"))\n",
    "is_student=input(\"Are you a student ?(yes or no)\").lower\n",
    "\n",
    "if age<5:\n",
    "    price=\"free\"\n",
    "elif age<=12:\n",
    "    price=\"$5\"\n",
    "elif age<=17:\n",
    "    if is_student ==\"yes\":\n",
    "        price=\"$12\"\n",
    "    else:\n",
    "        price=\"$15\"\n",
    "elif age<=64:\n",
    "    if is_student==\"yes\":\n",
    "        price=\"$18\"\n",
    "    else:\n",
    "        price=\"$25\"\n",
    "else:\n",
    "    price=\"$20\"\n",
    "print(\"Ticket price is : \",price)\n"
   ]
  }
 ],
 "metadata": {
  "kernelspec": {
   "display_name": "Python 3",
   "language": "python",
   "name": "python3"
  },
  "language_info": {
   "codemirror_mode": {
    "name": "ipython",
    "version": 3
   },
   "file_extension": ".py",
   "mimetype": "text/x-python",
   "name": "python",
   "nbconvert_exporter": "python",
   "pygments_lexer": "ipython3",
   "version": "3.10.0"
  }
 },
 "nbformat": 4,
 "nbformat_minor": 5
}
