{
 "cells": [
  {
   "cell_type": "code",
   "execution_count": 1,
   "id": "933a6b2a",
   "metadata": {},
   "outputs": [],
   "source": [
    "a=100"
   ]
  },
  {
   "cell_type": "code",
   "execution_count": 2,
   "id": "10cb26fe",
   "metadata": {},
   "outputs": [
    {
     "name": "stdout",
     "output_type": "stream",
     "text": [
      "Age : 20\n",
      "Height: 5.2\n",
      "Name : shifa\n"
     ]
    }
   ],
   "source": [
    "## Declaring and assigning variables\n",
    "age=20\n",
    "height=5.2\n",
    "name=\"shifa\"\n",
    "is_student=True\n",
    "\n",
    "## Printing the variables\n",
    "\n",
    "print(\"Age :\",age)\n",
    "print(\"Height:\",height)\n",
    "print(\"Name :\",name)"
   ]
  },
  {
   "cell_type": "code",
   "execution_count": 4,
   "id": "eb59fd7c",
   "metadata": {},
   "outputs": [],
   "source": [
    "# Naming Convention\n",
    "# Variable name shoulde be descriptive\n",
    "# They must start with letter or an underscore and contains letters,numbers and '_'\n",
    "\n",
    "# Valid variable names\n",
    "\n",
    "first_name=\"Shifa\"\n",
    "last_name=\"KB\""
   ]
  },
  {
   "cell_type": "code",
   "execution_count": 5,
   "id": "85669fe8",
   "metadata": {},
   "outputs": [],
   "source": [
    "# Invalid variable names\n",
    "#2age=30\n",
    "#first-name=\"shifa\"\n",
    "##@name=\"shifa\""
   ]
  },
  {
   "cell_type": "code",
   "execution_count": 6,
   "id": "346c38e6",
   "metadata": {},
   "outputs": [
    {
     "data": {
      "text/plain": [
       "False"
      ]
     },
     "execution_count": 6,
     "metadata": {},
     "output_type": "execute_result"
    }
   ],
   "source": [
    "## Case sensitivity\n",
    "name='shifa'\n",
    "Name='khallu'\n",
    "name==Name"
   ]
  },
  {
   "cell_type": "code",
   "execution_count": 1,
   "id": "07fb0741",
   "metadata": {},
   "outputs": [
    {
     "name": "stdout",
     "output_type": "stream",
     "text": [
      "<class 'str'>\n"
     ]
    }
   ],
   "source": [
    "## Understanding Variable types\n",
    "## Python is dynamically typed, type of a variable is determined at runtime\n",
    "age = 25#int\n",
    "height =6.# float\n",
    "name=\"shifa\"#str\n",
    "is_student=True#bool\n",
    "\n",
    "print(type(name))"
   ]
  },
  {
   "cell_type": "code",
   "execution_count": 2,
   "id": "348a08b7",
   "metadata": {},
   "outputs": [
    {
     "data": {
      "text/plain": [
       "float"
      ]
     },
     "execution_count": 2,
     "metadata": {},
     "output_type": "execute_result"
    }
   ],
   "source": [
    "## Type checking and conversion\n",
    "type(height)"
   ]
  },
  {
   "cell_type": "code",
   "execution_count": 4,
   "id": "2ae7f0b5",
   "metadata": {},
   "outputs": [
    {
     "name": "stdout",
     "output_type": "stream",
     "text": [
      "<class 'int'>\n",
      "25\n",
      "<class 'str'>\n"
     ]
    }
   ],
   "source": [
    "age=25\n",
    "print(type(age))\n",
    "\n",
    "#Type conversion\n",
    "age_str=str(age)\n",
    "print(age_str)\n",
    "print(type(age_str))"
   ]
  },
  {
   "cell_type": "code",
   "execution_count": 6,
   "id": "9dc35578",
   "metadata": {},
   "outputs": [
    {
     "name": "stdout",
     "output_type": "stream",
     "text": [
      "<class 'int'>\n"
     ]
    }
   ],
   "source": [
    "age='25'\n",
    "print(type(int(age)))"
   ]
  },
  {
   "cell_type": "code",
   "execution_count": 8,
   "id": "72b5d0d4",
   "metadata": {},
   "outputs": [
    {
     "ename": "ValueError",
     "evalue": "invalid literal for int() with base 10: 'shifa'",
     "output_type": "error",
     "traceback": [
      "\u001b[1;31m---------------------------------------------------------------------------\u001b[0m",
      "\u001b[1;31mValueError\u001b[0m                                Traceback (most recent call last)",
      "Cell \u001b[1;32mIn[8], line 2\u001b[0m\n\u001b[0;32m      1\u001b[0m name\u001b[38;5;241m=\u001b[39m\u001b[38;5;124m\"\u001b[39m\u001b[38;5;124mshifa\u001b[39m\u001b[38;5;124m\"\u001b[39m\n\u001b[1;32m----> 2\u001b[0m \u001b[38;5;28;43mint\u001b[39;49m\u001b[43m(\u001b[49m\u001b[43mname\u001b[49m\u001b[43m)\u001b[49m\n",
      "\u001b[1;31mValueError\u001b[0m: invalid literal for int() with base 10: 'shifa'"
     ]
    }
   ],
   "source": [
    "name=\"shifa\"\n",
    "int(name)"
   ]
  },
  {
   "cell_type": "code",
   "execution_count": 9,
   "id": "77cdaaa7",
   "metadata": {},
   "outputs": [
    {
     "data": {
      "text/plain": [
       "float"
      ]
     },
     "execution_count": 9,
     "metadata": {},
     "output_type": "execute_result"
    }
   ],
   "source": [
    "height =5.11\n",
    "type(height)"
   ]
  },
  {
   "cell_type": "code",
   "execution_count": 11,
   "id": "74598855",
   "metadata": {},
   "outputs": [
    {
     "data": {
      "text/plain": [
       "5.0"
      ]
     },
     "execution_count": 11,
     "metadata": {},
     "output_type": "execute_result"
    }
   ],
   "source": [
    "float(int(height))"
   ]
  },
  {
   "cell_type": "code",
   "execution_count": 12,
   "id": "f18f6b62",
   "metadata": {},
   "outputs": [
    {
     "name": "stdout",
     "output_type": "stream",
     "text": [
      "10 <class 'int'>\n",
      "Hello <class 'str'>\n",
      "3.14 <class 'float'>\n"
     ]
    }
   ],
   "source": [
    "## Dynamic Typing\n",
    "\n",
    "var=10#int\n",
    "print(var,type(var))\n",
    "\n",
    "var=\"Hello\"#str\n",
    "print(var,type(var))\n",
    "\n",
    "var=3.14#float\n",
    "print(var,type(var))"
   ]
  },
  {
   "cell_type": "code",
   "execution_count": 14,
   "id": "9efe28d3",
   "metadata": {},
   "outputs": [
    {
     "name": "stdout",
     "output_type": "stream",
     "text": [
      "23 <class 'int'>\n"
     ]
    }
   ],
   "source": [
    "# Input\n",
    "age=int(input(\"What is the age\"))\n",
    "print(age,type(age))"
   ]
  },
  {
   "cell_type": "code",
   "execution_count": 16,
   "id": "b7b1bfa3",
   "metadata": {},
   "outputs": [
    {
     "name": "stdout",
     "output_type": "stream",
     "text": [
      "Sum is : 8.0\n",
      "Difference is : 2.0\n",
      "Multiplication is : 15.0\n",
      "Division is : 1.6666666666666667\n"
     ]
    }
   ],
   "source": [
    "## Simple Calculator\n",
    "num1=float(input(\"Enter the first number\"))\n",
    "num2=float(input(\"Enter the first number\"))\n",
    "\n",
    "sum=num1+num2\n",
    "difference=num1-num2\n",
    "multiplication=num1*num2\n",
    "division=num1/num2\n",
    "\n",
    "print(\"Sum is :\",sum)\n",
    "print(\"Difference is :\",difference)\n",
    "print(\"Multiplication is :\",multiplication)\n",
    "print(\"Division is :\",division)\n"
   ]
  }
 ],
 "metadata": {
  "kernelspec": {
   "display_name": "Python 3",
   "language": "python",
   "name": "python3"
  },
  "language_info": {
   "codemirror_mode": {
    "name": "ipython",
    "version": 3
   },
   "file_extension": ".py",
   "mimetype": "text/x-python",
   "name": "python",
   "nbconvert_exporter": "python",
   "pygments_lexer": "ipython3",
   "version": "3.10.0"
  }
 },
 "nbformat": 4,
 "nbformat_minor": 5
}
