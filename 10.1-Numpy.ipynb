{
 "cells": [
  {
   "cell_type": "markdown",
   "id": "34d97ec1",
   "metadata": {},
   "source": [
    "### Numpy\n",
    "\n",
    "Numpy is a fundamental library for scientific computing in Python.It provides support for arrays and matrices,along with a collection of mathematical functions to operate on these data structures."
   ]
  },
  {
   "cell_type": "code",
   "execution_count": 2,
   "id": "5b94d22f",
   "metadata": {},
   "outputs": [
    {
     "name": "stdout",
     "output_type": "stream",
     "text": [
      "Requirement already satisfied: numpy in d:\\python\\venv\\lib\\site-packages (2.2.6)\n"
     ]
    }
   ],
   "source": [
    "!pip install numpy"
   ]
  },
  {
   "cell_type": "code",
   "execution_count": 3,
   "id": "13239ca7",
   "metadata": {},
   "outputs": [
    {
     "name": "stdout",
     "output_type": "stream",
     "text": [
      "[1 2 3 4 5]\n",
      "<class 'numpy.ndarray'>\n",
      "(5,)\n"
     ]
    }
   ],
   "source": [
    "import numpy as np\n",
    "# create array using numpy\n",
    "# create a 1D array\n",
    "arr1=np.array([1,2,3,4,5]) # np.array() is a function to create an array\n",
    "print(arr1)\n",
    "print(type(arr1))# it is not a list its a n dimension array\n",
    "print(arr1.shape)"
   ]
  },
  {
   "cell_type": "code",
   "execution_count": 4,
   "id": "82b784b7",
   "metadata": {},
   "outputs": [
    {
     "data": {
      "text/plain": [
       "array([[1, 2, 3, 4, 5]])"
      ]
     },
     "execution_count": 4,
     "metadata": {},
     "output_type": "execute_result"
    }
   ],
   "source": [
    "# 1D array\n",
    "arr2=np.array([1,2,3,4,5])\n",
    "arr2.reshape((1,5)) # here 1,5 means 1 row 5 columns"
   ]
  },
  {
   "cell_type": "code",
   "execution_count": 5,
   "id": "4a3b1654",
   "metadata": {},
   "outputs": [
    {
     "data": {
      "text/plain": [
       "array([[1],\n",
       "       [2],\n",
       "       [3],\n",
       "       [4],\n",
       "       [5]])"
      ]
     },
     "execution_count": 5,
     "metadata": {},
     "output_type": "execute_result"
    }
   ],
   "source": [
    "arr2.reshape((5,1))"
   ]
  },
  {
   "cell_type": "code",
   "execution_count": 6,
   "id": "43de9ee9",
   "metadata": {},
   "outputs": [
    {
     "data": {
      "text/plain": [
       "(1, 5)"
      ]
     },
     "execution_count": 6,
     "metadata": {},
     "output_type": "execute_result"
    }
   ],
   "source": [
    "arr2=np.array([[1,2,3,4,5]])\n",
    "arr2.shape"
   ]
  },
  {
   "cell_type": "code",
   "execution_count": 7,
   "id": "9f89921f",
   "metadata": {},
   "outputs": [
    {
     "name": "stdout",
     "output_type": "stream",
     "text": [
      "[[1 2 3 4 5]\n",
      " [2 3 4 5 6]]\n",
      "(2, 5)\n"
     ]
    }
   ],
   "source": [
    "# 2D array\n",
    "arr2=np.array([[1,2,3,4,5],[2,3,4,5,6]])\n",
    "print(arr2)\n",
    "print(arr2.shape) # output is 2,5 bcz 2 rows and 5 columns"
   ]
  },
  {
   "cell_type": "code",
   "execution_count": 9,
   "id": "3b852659",
   "metadata": {},
   "outputs": [
    {
     "data": {
      "text/plain": [
       "array([[0],\n",
       "       [2],\n",
       "       [4],\n",
       "       [6],\n",
       "       [8]])"
      ]
     },
     "execution_count": 9,
     "metadata": {},
     "output_type": "execute_result"
    }
   ],
   "source": [
    "np.arange(0,10,2).reshape(5,1) # here 1,10 is range and 2 is step"
   ]
  },
  {
   "cell_type": "code",
   "execution_count": null,
   "id": "a2303247",
   "metadata": {},
   "outputs": [
    {
     "data": {
      "text/plain": [
       "array([[1., 1., 1., 1.],\n",
       "       [1., 1., 1., 1.],\n",
       "       [1., 1., 1., 1.]])"
      ]
     },
     "execution_count": 16,
     "metadata": {},
     "output_type": "execute_result"
    }
   ],
   "source": [
    "np.ones((3,4))# this function creates a array with 3 rows and 4 columnsand all are 1"
   ]
  },
  {
   "cell_type": "code",
   "execution_count": 17,
   "id": "68ce1037",
   "metadata": {},
   "outputs": [
    {
     "data": {
      "text/plain": [
       "array([[0., 0., 0., 0.],\n",
       "       [0., 0., 0., 0.],\n",
       "       [0., 0., 0., 0.]])"
      ]
     },
     "execution_count": 17,
     "metadata": {},
     "output_type": "execute_result"
    }
   ],
   "source": [
    "np.zeros((3,4))"
   ]
  },
  {
   "cell_type": "code",
   "execution_count": 10,
   "id": "c4c22112",
   "metadata": {},
   "outputs": [
    {
     "data": {
      "text/plain": [
       "array([[1., 0., 0.],\n",
       "       [0., 1., 0.],\n",
       "       [0., 0., 1.]])"
      ]
     },
     "execution_count": 10,
     "metadata": {},
     "output_type": "execute_result"
    }
   ],
   "source": [
    "## Identity matrix\n",
    "np.eye(3)"
   ]
  },
  {
   "cell_type": "code",
   "execution_count": null,
   "id": "4bb52afd",
   "metadata": {},
   "outputs": [
    {
     "name": "stdout",
     "output_type": "stream",
     "text": [
      "Array :\n",
      " [[1 2 3]\n",
      " [4 5 6]]\n",
      "Shape : (2, 3)\n",
      "Number of dimensions 2\n",
      "Size(number of elements) 6\n",
      "Data type: int64\n",
      "Item size(in bytes) 8\n"
     ]
    }
   ],
   "source": [
    "# Attributes of numpy array\n",
    "arr=np.array([[1,2,3],[4,5,6]])\n",
    "\n",
    "print(\"Array :\\n\",arr)\n",
    "print(\"Shape :\",arr.shape)\n",
    "print(\"Number of dimensions\",arr.ndim)\n",
    "print(\"Size(number of elements)\",arr.size)\n",
    "print(\"Data type:\",arr.dtype)\n",
    "print(\"Item size(in bytes)\",arr.itemsize)"
   ]
  },
  {
   "cell_type": "code",
   "execution_count": 12,
   "id": "1efe1d34",
   "metadata": {},
   "outputs": [
    {
     "name": "stdout",
     "output_type": "stream",
     "text": [
      "Addition :  [11 22 33 44 55]\n",
      "Substraction :  [ -9 -18 -27 -36 -45]\n",
      "Substraction :  [ 10  40  90 160 250]\n",
      "Substraction :  [0.1 0.1 0.1 0.1 0.1]\n"
     ]
    }
   ],
   "source": [
    "## Numpy Vectorized operation\n",
    "arr1=np.array([1,2,3,4,5])\n",
    "arr2=np.array([10,20,30,40,50])\n",
    "\n",
    "# Element Wise addition\n",
    "print(\"Addition : \",arr1+arr2)\n",
    "# Element Wise Substraction\n",
    "print(\"Substraction : \",arr1-arr2)\n",
    "# Element Wise Multiplication\n",
    "print(\"Substraction : \",arr1*arr2)\n",
    "# Element Wise Division\n",
    "print(\"Substraction : \",arr1/arr2)"
   ]
  },
  {
   "cell_type": "code",
   "execution_count": 14,
   "id": "2b8741a9",
   "metadata": {},
   "outputs": [
    {
     "name": "stdout",
     "output_type": "stream",
     "text": [
      "[1.41421356 1.73205081 2.         2.23606798 2.44948974]\n",
      "[  7.3890561   20.08553692  54.59815003 148.4131591  403.42879349]\n",
      "[ 0.90929743  0.14112001 -0.7568025  -0.95892427 -0.2794155 ]\n",
      "[0.69314718 1.09861229 1.38629436 1.60943791 1.79175947]\n"
     ]
    }
   ],
   "source": [
    "## Universal Function\n",
    "arr=np.array([2,3,4,5,6])\n",
    "# Square root\n",
    "print(np.sqrt(arr))\n",
    "\n",
    "# Exponential\n",
    "print(np.exp(arr))\n",
    "\n",
    "# Sine\n",
    "print(np.sin(arr))\n",
    "\n",
    "# Natural log\n",
    "print(np.log(arr))"
   ]
  },
  {
   "cell_type": "code",
   "execution_count": 23,
   "id": "49676be5",
   "metadata": {},
   "outputs": [
    {
     "name": "stdout",
     "output_type": "stream",
     "text": [
      "Array :\n",
      " [[ 1  2  3  4]\n",
      " [ 5  6  7  8]\n",
      " [ 9 10 11 12]]\n"
     ]
    }
   ],
   "source": [
    "## Array slicing and indexing\n",
    "\n",
    "arr=np.array([[1,2,3,4],[5,6,7,8],[9,10,11,12]])\n",
    "print(\"Array :\\n\",arr)"
   ]
  },
  {
   "cell_type": "code",
   "execution_count": 25,
   "id": "fcbf4bf7",
   "metadata": {},
   "outputs": [
    {
     "data": {
      "text/plain": [
       "1"
      ]
     },
     "execution_count": 25,
     "metadata": {},
     "output_type": "execute_result"
    }
   ],
   "source": [
    "int(arr[0][0])"
   ]
  },
  {
   "cell_type": "code",
   "execution_count": 34,
   "id": "403cf137",
   "metadata": {},
   "outputs": [
    {
     "data": {
      "text/plain": [
       "array([[3, 4],\n",
       "       [7, 8]])"
      ]
     },
     "execution_count": 34,
     "metadata": {},
     "output_type": "execute_result"
    }
   ],
   "source": [
    "arr[0:2,2:]"
   ]
  },
  {
   "cell_type": "code",
   "execution_count": 27,
   "id": "4643b762",
   "metadata": {},
   "outputs": [
    {
     "data": {
      "text/plain": [
       "array([[ 7,  8],\n",
       "       [11, 12]])"
      ]
     },
     "execution_count": 27,
     "metadata": {},
     "output_type": "execute_result"
    }
   ],
   "source": [
    "arr[1:,2:]"
   ]
  },
  {
   "cell_type": "code",
   "execution_count": 29,
   "id": "acbfff51",
   "metadata": {},
   "outputs": [
    {
     "data": {
      "text/plain": [
       "array([[ 6,  7,  8],\n",
       "       [10, 11, 12]])"
      ]
     },
     "execution_count": 29,
     "metadata": {},
     "output_type": "execute_result"
    }
   ],
   "source": [
    "arr[1:,1:]"
   ]
  },
  {
   "cell_type": "code",
   "execution_count": 36,
   "id": "1d079f83",
   "metadata": {},
   "outputs": [
    {
     "data": {
      "text/plain": [
       "array([[ 6,  7],\n",
       "       [10, 11]])"
      ]
     },
     "execution_count": 36,
     "metadata": {},
     "output_type": "execute_result"
    }
   ],
   "source": [
    "arr[1:,1:3]"
   ]
  },
  {
   "cell_type": "code",
   "execution_count": 37,
   "id": "89529161",
   "metadata": {},
   "outputs": [
    {
     "name": "stdout",
     "output_type": "stream",
     "text": [
      "[[100   2   3   4]\n",
      " [  5   6   7   8]\n",
      " [  9  10  11  12]]\n"
     ]
    }
   ],
   "source": [
    "# Modify array elements\n",
    "arr[0,0]=100\n",
    "print(arr)"
   ]
  },
  {
   "cell_type": "code",
   "execution_count": 38,
   "id": "724752c1",
   "metadata": {},
   "outputs": [
    {
     "name": "stdout",
     "output_type": "stream",
     "text": [
      "[[100   2   3   4]\n",
      " [100 100 100 100]\n",
      " [100 100 100 100]]\n"
     ]
    }
   ],
   "source": [
    "arr[1:]=100\n",
    "print(arr)"
   ]
  },
  {
   "cell_type": "code",
   "execution_count": 39,
   "id": "bb6a0f88",
   "metadata": {},
   "outputs": [
    {
     "name": "stdout",
     "output_type": "stream",
     "text": [
      "Normalized data :  [-1.41421356 -0.70710678  0.          0.70710678  1.41421356]\n"
     ]
    }
   ],
   "source": [
    "# Statistical concepts-Normalization\n",
    "# To have a mean of 0 and standard deviation of 1\n",
    "data=np.array([1,2,3,4,5])\n",
    "\n",
    "# calculate mean and standard deviation\n",
    "mean=np.mean(data)\n",
    "std_div=np.std(data)\n",
    "\n",
    "# Normalize the data\n",
    "normalized_data=(data - mean)/std_div\n",
    "print(\"Normalized data : \",normalized_data)"
   ]
  },
  {
   "cell_type": "code",
   "execution_count": 42,
   "id": "1f115f9c",
   "metadata": {},
   "outputs": [
    {
     "name": "stdout",
     "output_type": "stream",
     "text": [
      "Mean : 5.5\n",
      "Median : 5.5\n",
      "Standard Deviation : 2.8722813232690143\n",
      "Variance : 8.25\n"
     ]
    }
   ],
   "source": [
    "data=np.array([1,2,3,4,5,6,7,8,9,10])\n",
    "\n",
    "#Mean\n",
    "mean=np.mean(data)\n",
    "print(\"Mean :\",mean)\n",
    "\n",
    "# Median\n",
    "median=np.median(data)\n",
    "print(\"Median :\",median)\n",
    "\n",
    "# Standard deviation\n",
    "std_div=np.std(data)\n",
    "print(\"Standard Deviation :\",std_div)\n",
    "\n",
    "# Variance\n",
    "variance=np.var(data)\n",
    "print(\"Variance :\",variance)\n",
    "\n"
   ]
  },
  {
   "cell_type": "code",
   "execution_count": 50,
   "id": "d53dd683",
   "metadata": {},
   "outputs": [
    {
     "data": {
      "text/plain": [
       "array([5, 6, 7, 8])"
      ]
     },
     "execution_count": 50,
     "metadata": {},
     "output_type": "execute_result"
    }
   ],
   "source": [
    "## Logical operation\n",
    "data=np.array([1,2,3,4,5,6,7,8,9,10])\n",
    "data[(data >= 5)& (data <=8)]"
   ]
  },
  {
   "cell_type": "code",
   "execution_count": null,
   "id": "8203057d",
   "metadata": {},
   "outputs": [],
   "source": []
  }
 ],
 "metadata": {
  "kernelspec": {
   "display_name": "Python 3",
   "language": "python",
   "name": "python3"
  },
  "language_info": {
   "codemirror_mode": {
    "name": "ipython",
    "version": 3
   },
   "file_extension": ".py",
   "mimetype": "text/x-python",
   "name": "python",
   "nbconvert_exporter": "python",
   "pygments_lexer": "ipython3",
   "version": "3.10.0"
  }
 },
 "nbformat": 4,
 "nbformat_minor": 5
}
